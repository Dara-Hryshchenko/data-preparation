{
 "cells": [
  {
   "cell_type": "code",
   "execution_count": 1,
   "metadata": {},
   "outputs": [],
   "source": [
    "import os \n",
    "import glob\n",
    "import pandas as pd\n",
    "from datetime import datetime\n",
    "import datetime as dt\n",
    "to_save = \"D:\\\\Projects\\\\Colgate\\\\Hills\\\\2019\\\\19_07_09\\\\output_of_code\\\\\""
   ]
  },
  {
   "cell_type": "code",
   "execution_count": 2,
   "metadata": {},
   "outputs": [],
   "source": [
    "def multiindex_pivot(df, columns=None, values=None):\n",
    "    names = list(df.index.names)\n",
    "    df = df.reset_index()\n",
    "    list_index = df[names].values\n",
    "    tuples_index = [tuple(i) for i in list_index] # hashable\n",
    "    df = df.assign(tuples_index=tuples_index)\n",
    "    df = df.pivot(index=\"tuples_index\", columns=columns, values=values)\n",
    "    tuples_index = df.index  # reduced\n",
    "    index = pd.MultiIndex.from_tuples(tuples_index, names=names)\n",
    "    df.index = index\n",
    "    return df"
   ]
  },
  {
   "cell_type": "code",
   "execution_count": 3,
   "metadata": {},
   "outputs": [
    {
     "name": "stderr",
     "output_type": "stream",
     "text": [
      "C:\\Users\\User\\Anaconda3\\lib\\site-packages\\numpy\\lib\\arraysetops.py:569: FutureWarning: elementwise comparison failed; returning scalar instead, but in the future will perform elementwise comparison\n",
      "  mask |= (ar1 == a)\n"
     ]
    }
   ],
   "source": [
    "data = pd.read_csv(\"D:\\\\Projects\\\\Colgate\\\\Hills\\\\2019\\\\19_07_09\\\\output_of_code\\\\all_df_v2.csv\", index_col =['Title', 'title_from_sales', 'retailersku', 'manufacturer', 'brand','manufacturer_general', 'brand_general',\n",
    "                                            'species_form', 'bag_size', 'lifestage', 'usage','Size', 'lb/oz', 'Size lb', 'count', 'coef',\"promo_type\", \"Fact\"])"
   ]
  },
  {
   "cell_type": "code",
   "execution_count": 4,
   "metadata": {},
   "outputs": [
    {
     "data": {
      "text/html": [
       "<div>\n",
       "<style scoped>\n",
       "    .dataframe tbody tr th:only-of-type {\n",
       "        vertical-align: middle;\n",
       "    }\n",
       "\n",
       "    .dataframe tbody tr th {\n",
       "        vertical-align: top;\n",
       "    }\n",
       "\n",
       "    .dataframe thead th {\n",
       "        text-align: right;\n",
       "    }\n",
       "</style>\n",
       "<table border=\"1\" class=\"dataframe\">\n",
       "  <thead>\n",
       "    <tr style=\"text-align: right;\">\n",
       "      <th></th>\n",
       "      <th></th>\n",
       "      <th></th>\n",
       "      <th></th>\n",
       "      <th></th>\n",
       "      <th></th>\n",
       "      <th></th>\n",
       "      <th></th>\n",
       "      <th></th>\n",
       "      <th></th>\n",
       "      <th></th>\n",
       "      <th></th>\n",
       "      <th></th>\n",
       "      <th></th>\n",
       "      <th></th>\n",
       "      <th></th>\n",
       "      <th></th>\n",
       "      <th></th>\n",
       "      <th>weekid</th>\n",
       "      <th>Values</th>\n",
       "    </tr>\n",
       "    <tr>\n",
       "      <th>Title</th>\n",
       "      <th>title_from_sales</th>\n",
       "      <th>retailersku</th>\n",
       "      <th>manufacturer</th>\n",
       "      <th>brand</th>\n",
       "      <th>manufacturer_general</th>\n",
       "      <th>brand_general</th>\n",
       "      <th>species_form</th>\n",
       "      <th>bag_size</th>\n",
       "      <th>lifestage</th>\n",
       "      <th>usage</th>\n",
       "      <th>Size</th>\n",
       "      <th>lb/oz</th>\n",
       "      <th>Size lb</th>\n",
       "      <th>count</th>\n",
       "      <th>coef</th>\n",
       "      <th>promo_type</th>\n",
       "      <th>Fact</th>\n",
       "      <th></th>\n",
       "      <th></th>\n",
       "    </tr>\n",
       "  </thead>\n",
       "  <tbody>\n",
       "    <tr>\n",
       "      <th rowspan=\"5\" valign=\"top\">Royal Canin Feline Health Nutrition Intense Beauty 3-Ounce Loaf In Sauce Canned Cat Food (24 cans/case)</th>\n",
       "      <th rowspan=\"5\" valign=\"top\">Royal Canin Feline Health Nutrition Intense Beauty 3-Ounce Loaf In Sauce Canned Cat Food (24 cans/case)</th>\n",
       "      <th rowspan=\"5\" valign=\"top\">B013DQUUE8</th>\n",
       "      <th rowspan=\"5\" valign=\"top\">Mars Petcare</th>\n",
       "      <th rowspan=\"5\" valign=\"top\">Royal Canin</th>\n",
       "      <th rowspan=\"5\" valign=\"top\">Mars</th>\n",
       "      <th rowspan=\"5\" valign=\"top\">Royal Canin</th>\n",
       "      <th rowspan=\"5\" valign=\"top\">Wet Cat</th>\n",
       "      <th rowspan=\"5\" valign=\"top\">Mini Can</th>\n",
       "      <th rowspan=\"5\" valign=\"top\">Adult</th>\n",
       "      <th rowspan=\"5\" valign=\"top\">Wellness</th>\n",
       "      <th rowspan=\"5\" valign=\"top\">3</th>\n",
       "      <th rowspan=\"5\" valign=\"top\">ounce</th>\n",
       "      <th rowspan=\"5\" valign=\"top\">0.1875</th>\n",
       "      <th rowspan=\"5\" valign=\"top\">24</th>\n",
       "      <th rowspan=\"5\" valign=\"top\">4.5</th>\n",
       "      <th rowspan=\"5\" valign=\"top\">None</th>\n",
       "      <th>Total Sales</th>\n",
       "      <td>201644</td>\n",
       "      <td>35.76</td>\n",
       "    </tr>\n",
       "    <tr>\n",
       "      <th>Total Sales</th>\n",
       "      <td>201645</td>\n",
       "      <td>35.76</td>\n",
       "    </tr>\n",
       "    <tr>\n",
       "      <th>Total Sales</th>\n",
       "      <td>201646</td>\n",
       "      <td>35.76</td>\n",
       "    </tr>\n",
       "    <tr>\n",
       "      <th>Total Sales</th>\n",
       "      <td>201647</td>\n",
       "      <td>35.76</td>\n",
       "    </tr>\n",
       "    <tr>\n",
       "      <th>Total Sales</th>\n",
       "      <td>201648</td>\n",
       "      <td>35.76</td>\n",
       "    </tr>\n",
       "  </tbody>\n",
       "</table>\n",
       "</div>"
      ],
      "text/plain": [
       "                                                                                                                                                                                                                                                                             weekid  \\\n",
       "Title                                              title_from_sales                                   retailersku manufacturer brand       manufacturer_general brand_general species_form bag_size lifestage usage    Size lb/oz Size lb count coef promo_type Fact                  \n",
       "  Royal Canin Feline Health Nutrition Intense B...   Royal Canin Feline Health Nutrition Intense B... B013DQUUE8  Mars Petcare Royal Canin Mars                 Royal Canin   Wet Cat      Mini Can Adult     Wellness 3    ounce 0.1875  24    4.5  None       Total Sales  201644   \n",
       "                                                                                                                                                                                                                                                                Total Sales  201645   \n",
       "                                                                                                                                                                                                                                                                Total Sales  201646   \n",
       "                                                                                                                                                                                                                                                                Total Sales  201647   \n",
       "                                                                                                                                                                                                                                                                Total Sales  201648   \n",
       "\n",
       "                                                                                                                                                                                                                                                                             Values  \n",
       "Title                                              title_from_sales                                   retailersku manufacturer brand       manufacturer_general brand_general species_form bag_size lifestage usage    Size lb/oz Size lb count coef promo_type Fact                 \n",
       "  Royal Canin Feline Health Nutrition Intense B...   Royal Canin Feline Health Nutrition Intense B... B013DQUUE8  Mars Petcare Royal Canin Mars                 Royal Canin   Wet Cat      Mini Can Adult     Wellness 3    ounce 0.1875  24    4.5  None       Total Sales   35.76  \n",
       "                                                                                                                                                                                                                                                                Total Sales   35.76  \n",
       "                                                                                                                                                                                                                                                                Total Sales   35.76  \n",
       "                                                                                                                                                                                                                                                                Total Sales   35.76  \n",
       "                                                                                                                                                                                                                                                                Total Sales   35.76  "
      ]
     },
     "execution_count": 4,
     "metadata": {},
     "output_type": "execute_result"
    }
   ],
   "source": [
    "data.head()"
   ]
  },
  {
   "cell_type": "code",
   "execution_count": 5,
   "metadata": {},
   "outputs": [
    {
     "data": {
      "text/plain": [
       "Index(['weekid', 'Values'], dtype='object')"
      ]
     },
     "execution_count": 5,
     "metadata": {},
     "output_type": "execute_result"
    }
   ],
   "source": [
    "data.columns"
   ]
  },
  {
   "cell_type": "code",
   "execution_count": 6,
   "metadata": {},
   "outputs": [],
   "source": [
    "data = data[['weekid', 'Values']]"
   ]
  },
  {
   "cell_type": "code",
   "execution_count": 7,
   "metadata": {},
   "outputs": [],
   "source": [
    "data_pivot=multiindex_pivot(data,columns = \"weekid\",values = \"Values\")"
   ]
  },
  {
   "cell_type": "code",
   "execution_count": 10,
   "metadata": {},
   "outputs": [],
   "source": [
    "data_pivot.to_csv(to_save+\"data_pivot_v2.csv\")"
   ]
  },
  {
   "cell_type": "code",
   "execution_count": null,
   "metadata": {},
   "outputs": [],
   "source": []
  }
 ],
 "metadata": {
  "kernelspec": {
   "display_name": "Python 3",
   "language": "python",
   "name": "python3"
  },
  "language_info": {
   "codemirror_mode": {
    "name": "ipython",
    "version": 3
   },
   "file_extension": ".py",
   "mimetype": "text/x-python",
   "name": "python",
   "nbconvert_exporter": "python",
   "pygments_lexer": "ipython3",
   "version": "3.7.3"
  }
 },
 "nbformat": 4,
 "nbformat_minor": 2
}
