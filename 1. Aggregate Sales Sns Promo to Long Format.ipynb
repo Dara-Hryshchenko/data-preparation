{
 "cells": [
  {
   "cell_type": "code",
   "execution_count": null,
   "metadata": {},
   "outputs": [],
   "source": [
    "import os \n",
    "import glob\n",
    "import pandas as pd\n",
    "from datetime import datetime\n",
    "import datetime as dt"
   ]
  },
  {
   "cell_type": "code",
   "execution_count": null,
   "metadata": {},
   "outputs": [],
   "source": [
    "sales_checked_path = \"D:\\\\Projects\\\\Colgate\\\\Hills\\\\2019\\\\Stackline\\\\Amazon\\\\Sales\\\\checked\"\n",
    "promo_path = \"D:\\\\Projects\\\\Colgate\\\\Hills\\\\2019\\\\Stackline\\\\Amazon\\\\Promo\"\n",
    "history_promo_data_folder= \"D:\\\\Projects\\\\Colgate\\\\Hills\\\\2019\\\\Stackline\\\\Amazon\\\\\"\n",
    "sns_data_path = \"D:\\\\Projects\\\\Colgate\\\\Hills\\\\2019\\\\OneHub_files\"\n",
    "map_folder = \"D:\\\\Projects\\\\Colgate\\\\Hills\\\\2019\\\\Mapping\\\\\""
   ]
  },
  {
   "cell_type": "code",
   "execution_count": null,
   "metadata": {},
   "outputs": [],
   "source": [
    "to_save = \"D:\\\\Projects\\\\Colgate\\\\Hills\\\\2019\\\\19_07_09\\\\output_of_code\\\\\""
   ]
  },
  {
   "cell_type": "code",
   "execution_count": null,
   "metadata": {},
   "outputs": [],
   "source": [
    "def multiindex_pivot(df, columns=None, values=None):\n",
    "    names = list(df.index.names)\n",
    "    df = df.reset_index()\n",
    "    list_index = df[names].values\n",
    "    tuples_index = [tuple(i) for i in list_index] # hashable\n",
    "    df = df.assign(tuples_index=tuples_index)\n",
    "    df = df.pivot(index=\"tuples_index\", columns=columns, values=values)\n",
    "    tuples_index = df.index  # reduced\n",
    "    index = pd.MultiIndex.from_tuples(tuples_index, names=names)\n",
    "    df.index = index\n",
    "    return df"
   ]
  },
  {
   "cell_type": "code",
   "execution_count": null,
   "metadata": {},
   "outputs": [],
   "source": [
    "#combine all files in the list\n",
    "#combined_csv = pd.concat([pd.read_csv(f, encoding='latin-1', sep=\",\") for f in all_filenames ])"
   ]
  },
  {
   "cell_type": "markdown",
   "metadata": {},
   "source": [
    "# Read All Sales and Promo Files"
   ]
  },
  {
   "cell_type": "code",
   "execution_count": null,
   "metadata": {},
   "outputs": [],
   "source": [
    "os.chdir(sales_checked_path)\n",
    "extension = 'csv'\n",
    "all_filenames_raw = [i for i in glob.glob('*.{}'.format(extension))]\n",
    "all_filenames = [k for k in all_filenames_raw if 'amazon' in k]\n",
    "print(len(all_filenames))\n",
    "merged_files = pd.DataFrame()\n",
    "for f in all_filenames:\n",
    "    df_0 = pd.read_csv(f, encoding='latin-1')\n",
    "    df_0[\"source\"] = f\n",
    "    merged_files = pd.concat([merged_files,df_0])\n",
    "amazon_sales_file = merged_files"
   ]
  },
  {
   "cell_type": "code",
   "execution_count": null,
   "metadata": {},
   "outputs": [],
   "source": [
    "all_filenames_1 = [k for k in all_filenames_raw if 'Sales_' in k]\n",
    "print(len(all_filenames_1))\n",
    "merged_files = pd.DataFrame()\n",
    "for f in all_filenames_1:\n",
    "    df_0 = pd.read_csv(f, encoding='latin-1', sep=\";\")\n",
    "    df_0[\"source\"] = f\n",
    "    merged_files = pd.concat([merged_files,df_0])\n",
    "sales_file = merged_files"
   ]
  },
  {
   "cell_type": "code",
   "execution_count": null,
   "metadata": {},
   "outputs": [],
   "source": [
    "sales_file_5 = sales_file[sales_file[\"source\"]==\"Stackline_Atlas_Sales_05.csv\"]\n",
    "sales_file_not_5 = sales_file[sales_file[\"source\"]!=\"Stackline_Atlas_Sales_05.csv\"]"
   ]
  },
  {
   "cell_type": "code",
   "execution_count": null,
   "metadata": {},
   "outputs": [],
   "source": [
    "# not 201714, 201715, 217016\n",
    "sales_file_5_sev_weeks = sales_file_5[~((sales_file_5[\"weekid\"]== 201714) | (sales_file_5[\"weekid\"]== 201715) | (sales_file_5[\"weekid\"]== 201716))]\n",
    "#set(sales_file_5_sev_weeks[\"weekid\"])"
   ]
  },
  {
   "cell_type": "code",
   "execution_count": null,
   "metadata": {},
   "outputs": [],
   "source": [
    "sales_file_5_sev_weeks = sales_file_5[~sales_file_5[\"weekid\"].isin([201714, 201715, 201716])]\n",
    "#set(sales_file_5_sev_weeks[\"weekid\"])"
   ]
  },
  {
   "cell_type": "code",
   "execution_count": null,
   "metadata": {},
   "outputs": [],
   "source": [
    "sales_file = pd.concat([sales_file_not_5,sales_file_5_sev_weeks])"
   ]
  },
  {
   "cell_type": "code",
   "execution_count": null,
   "metadata": {},
   "outputs": [],
   "source": [
    "os.chdir(promo_path)\n",
    "all_filenames_0 = [i for i in glob.glob('*.{}'.format(extension))]\n",
    "#all_filenames_1 = [k for k in all_filenames_0 if 'Sales' in k]\n",
    "print(len(all_filenames_0))\n",
    "merged_files = pd.DataFrame()\n",
    "for f in all_filenames_0:\n",
    "    df_0 = pd.read_csv(f, encoding='latin-1')\n",
    "    df_0[\"source\"] = f\n",
    "    merged_files = pd.concat([merged_files,df_0])\n",
    "month_promo_file = merged_files"
   ]
  },
  {
   "cell_type": "code",
   "execution_count": null,
   "metadata": {},
   "outputs": [],
   "source": [
    "history_promo_data = pd.read_csv(history_promo_data_path + \"hills_atlas_promo_history_UntilMay2019.csv\")\n",
    "history_promo_data[\"source\"] = \"hills_atlas_promo_history_UntilMay2019.csv\""
   ]
  },
  {
   "cell_type": "markdown",
   "metadata": {},
   "source": [
    "# Filter columns"
   ]
  },
  {
   "cell_type": "code",
   "execution_count": null,
   "metadata": {},
   "outputs": [],
   "source": [
    "sales_file_1=sales_file[['retailersku', 'weekid', 'volume', 'estimatesales',\"title\"]]\n",
    "amazon_sales_file_1=amazon_sales_file[[ 'retailersku', 'weekid', 'volume', 'estimatesales',\"title\"]]\n",
    "all_data_sales = pd.concat([sales_file_1, amazon_sales_file_1])\n",
    "all_data_sales.drop_duplicates(inplace=True)\n",
    "all_data_sales[\"weekid\"] = all_data_sales[\"weekid\"].astype(\"str\")"
   ]
  },
  {
   "cell_type": "markdown",
   "metadata": {},
   "source": [
    "# Create map for all skus with the longest title"
   ]
  },
  {
   "cell_type": "code",
   "execution_count": null,
   "metadata": {},
   "outputs": [],
   "source": [
    "title_sku_df =all_data_sales[[\"retailersku\",\"title\"]]\n",
    "title_sku_df[\"len_title\"] = title_sku_df.title.apply(lambda x: len(x))\n",
    "title_sku_df.head()\n",
    "max_len_of_title_sku_df = title_sku_df[[\"len_title\", \"retailersku\"]]\n",
    "max_len_of_title_sku_df = max_len_of_title_sku_df.groupby(\"retailersku\").max()\n",
    "max_len_of_title_sku_df.head()\n",
    "max_len_of_title_sku_df.reset_index(inplace = True)\n",
    "uniq_title_sku = title_sku_df.merge(max_len_of_title_sku_df, on = [\"retailersku\", \"len_title\"], how=\"inner\")\n",
    "uniq_title_sku[\"is_duplicated_sku\"] = uniq_title_sku[\"retailersku\"].duplicated()\n",
    "uniq_title_sku\n",
    "uniq_title_sku = uniq_title_sku[uniq_title_sku[\"is_duplicated_sku\"] == False]\n",
    "map_title = uniq_title_sku[[\"retailersku\", \"title\"]]\n",
    "map_title.rename(columns={'title': 'title_from_sales'}, inplace=True)\n",
    "map_title.head()\n",
    "map_title.to_csv(to_save+\"map_title_all_sku.csv\")\n",
    "all_data_sales = all_data_sales[['retailersku', 'weekid', 'volume', 'estimatesales']]"
   ]
  },
  {
   "cell_type": "markdown",
   "metadata": {},
   "source": [
    "# Mapping for attributes"
   ]
  },
  {
   "cell_type": "code",
   "execution_count": null,
   "metadata": {},
   "outputs": [],
   "source": [
    "map_atributes = pd.read_csv(map_folder+\"Stackline_attribute_v3.csv\", encoding=\"latin-1\")\n",
    "map_atributes.drop_duplicates(inplace=True)\n",
    "map_atributes = map_atributes[map_atributes[\"retailer\"]==\"Amazon\"]\n",
    "map_atributes = map_atributes[['manufacturer', 'brand', 'Title',  'retailersku', 'species_form', 'bag_size', 'lifestage', 'usage']]\n",
    "print(map_atributes.isna().sum())\n",
    "map_atributes.fillna('Unknown',inplace=True)"
   ]
  },
  {
   "cell_type": "markdown",
   "metadata": {},
   "source": [
    "# Map manufacture and brand to general"
   ]
  },
  {
   "cell_type": "code",
   "execution_count": null,
   "metadata": {},
   "outputs": [],
   "source": [
    "map_manuf_brand_to_general = pd.read_csv(map_folder+\"map_manuf_brand_to_general.csv\")\n",
    "map_atributes = map_atributes.merge(map_manuf_brand_to_general, on = ['manufacturer', 'brand'], how = \"left\")\n",
    "print(map_atributes.isnull().sum())\n",
    "map_atributes[\"manufacturer_general\"].fillna(\"A/O MFG\", inplace = True)\n",
    "map_atributes[\"brand_general\"].fillna(\"A/O BRAND\", inplace = True)"
   ]
  },
  {
   "cell_type": "markdown",
   "metadata": {},
   "source": [
    "# Mapping foodclass"
   ]
  },
  {
   "cell_type": "code",
   "execution_count": null,
   "metadata": {},
   "outputs": [],
   "source": [
    "map_foodclass = pd.read_csv(map_folder+\"map_foodclass.csv\")"
   ]
  },
  {
   "cell_type": "code",
   "execution_count": null,
   "metadata": {},
   "outputs": [],
   "source": [
    "for index, row in map_foodclass.iterrows():\n",
    "    previous_value = list(row)[2]\n",
    "    new_value = list(row)[3]  \n",
    "    map_atributes.species_form[map_atributes.species_form == previous_value] = new_value\n",
    "print(\"   map_atributes:\")    \n",
    "for col in list(map_atributes.columns):\n",
    "    print(\"len of \"+col+\": \"+str(len(set(map_atributes[col]))))\n",
    "print(\"   map_manuf_brand_to_general:\")    \n",
    "for col in list(map_manuf_brand_to_general.columns):\n",
    "    print(\"len of \"+col+\": \"+str(len(set(map_atributes[col]))))\n",
    "\n",
    "map_title_attr = map_atributes\n",
    "map_atributes.to_csv(to_save+\"map_atributes.csv\")"
   ]
  },
  {
   "cell_type": "markdown",
   "metadata": {},
   "source": [
    "# Mapping size"
   ]
  },
  {
   "cell_type": "code",
   "execution_count": null,
   "metadata": {},
   "outputs": [],
   "source": [
    "map_size = pd.read_csv(map_folder+\"map_size.csv\")"
   ]
  },
  {
   "cell_type": "markdown",
   "metadata": {},
   "source": [
    "# Drop treats"
   ]
  },
  {
   "cell_type": "code",
   "execution_count": null,
   "metadata": {},
   "outputs": [],
   "source": [
    "all_data_sales[\"promo_type\"]=\"None\"\n",
    "all_data_sales=all_data_sales.merge(map_title, on=\"retailersku\")\n",
    "all_data_sales[\"retailersku\"].replace(to_replace=\"0789331144\", value=\"789331144\", inplace = True)\n",
    "all_data_sales_with_attr = all_data_sales.merge(map_atributes, on=\"retailersku\", how=\"left\")\n",
    "all_data_sales_without_treats = all_data_sales_with_attr[~(all_data_sales_with_attr[\"species_form\"].str.contains(\"drop\", na=False))]\n",
    "all_data_sales_with_treats = all_data_sales_with_attr[(all_data_sales_with_attr[\"species_form\"].str.contains(\"drop\", na=False))]\n",
    "len(all_data_sales_without_treats)"
   ]
  },
  {
   "cell_type": "code",
   "execution_count": null,
   "metadata": {},
   "outputs": [],
   "source": [
    "all_data_sales_without_treats.estimatesales.sum()"
   ]
  },
  {
   "cell_type": "markdown",
   "metadata": {},
   "source": [
    "## Check&CSV"
   ]
  },
  {
   "cell_type": "code",
   "execution_count": null,
   "metadata": {},
   "outputs": [],
   "source": [
    "print(all_data_sales.volume.sum()-all_data_sales_with_attr.volume.sum())\n",
    "print(all_data_sales_without_treats.volume.sum()+all_data_sales_with_treats.volume.sum()-all_data_sales_with_attr.volume.sum())"
   ]
  },
  {
   "cell_type": "code",
   "execution_count": null,
   "metadata": {},
   "outputs": [],
   "source": [
    "all_data_sales_without_treats.to_csv(to_save+\"all_data_sales_without_treats.csv\")"
   ]
  },
  {
   "cell_type": "markdown",
   "metadata": {},
   "source": [
    "# Final Sales"
   ]
  },
  {
   "cell_type": "code",
   "execution_count": null,
   "metadata": {},
   "outputs": [],
   "source": [
    "final_data_sales = all_data_sales_without_treats[[\"Title\",'title_from_sales',\"retailersku\",'manufacturer', 'brand','manufacturer_general', 'brand_general', 'species_form',\n",
    "                                            'bag_size', 'lifestage', 'usage',\"promo_type\", 'weekid',  'volume', 'estimatesales']]\n",
    "final_data_sales.rename(columns={'volume':\"Sale Units\", 'estimatesales':\"Total Sales\" },inplace = True)\n",
    "#drop unknown\n",
    "#final_data_sales.dropna(inplace=True)\n",
    "final_data_sales.fillna(\"Unknown\", inplace=True)\n",
    "final_data_sales_grouped = final_data_sales.groupby(['Title','title_from_sales',\"retailersku\",'manufacturer', 'brand','manufacturer_general', 'brand_general', \n",
    "                                                     'species_form', 'bag_size', 'lifestage', 'usage',\"promo_type\", \"weekid\"]).max()\n",
    "final_data_sales_grouped[\"AvgPrice per Unit\"]=final_data_sales_grouped[\"Total Sales\"]/final_data_sales_grouped[\"Sale Units\"]\n",
    "final_data_sales_grouped.reset_index(inplace =True)\n",
    "final_data_sales_grouped.head(1)"
   ]
  },
  {
   "cell_type": "code",
   "execution_count": null,
   "metadata": {},
   "outputs": [],
   "source": [
    "final_data_sales_grouped[\"Total Sales\"].sum()"
   ]
  },
  {
   "cell_type": "code",
   "execution_count": null,
   "metadata": {},
   "outputs": [],
   "source": [
    "final_data_sales_grouped_EQ = final_data_sales_grouped.merge(map_size, on=\"retailersku\", how=\"left\")\n",
    "final_data_sales_grouped_EQ[['Size', 'lb/oz', 'Size lb', 'count']] = final_data_sales_grouped_EQ[['Size', 'lb/oz', 'Size lb', 'count']].fillna(\"Unknown\")\n",
    "final_data_sales_grouped_EQ = final_data_sales_grouped_EQ[['Title', 'title_from_sales', 'retailersku', 'manufacturer', 'brand',\n",
    "       'manufacturer_general', 'brand_general', 'species_form', 'bag_size',\n",
    "       'lifestage', 'usage',\n",
    "       'Size', 'lb/oz', 'Size lb', 'count', 'coef', 'promo_type', 'weekid', \n",
    "       'Total Sales','Sale Units', 'AvgPrice per Unit' ]]\n",
    "final_data_sales_grouped_EQ[\"Sale Volume\"] = final_data_sales_grouped_EQ[\"Sale Units\"]*final_data_sales_grouped_EQ[\"coef\"]\n",
    "final_data_sales_grouped_EQ[\"AvgPrice per lb\"]=final_data_sales_grouped_EQ[\"Total Sales\"]/final_data_sales_grouped_EQ[\"Sale Volume\"]\n",
    "final_data_sales_grouped_EQ.fillna(0,inplace=True)"
   ]
  },
  {
   "cell_type": "markdown",
   "metadata": {},
   "source": [
    "# Check&CSV"
   ]
  },
  {
   "cell_type": "code",
   "execution_count": null,
   "metadata": {},
   "outputs": [],
   "source": [
    "print(final_data_sales[\"Sale Units\"].sum()-all_data_sales_without_treats.volume.sum())\n",
    "#next not 0\n",
    "print(final_data_sales_grouped[\"Sale Units\"].sum()-all_data_sales_without_treats.volume.sum()+15016) \n",
    "print(final_data_sales_grouped[\"Total Sales\"].sum()-all_data_sales_without_treats.estimatesales.sum()+596016.5400018692)\n",
    "#print(final_data_grouped['SNS Units'].sum()-all_data_without_treats['SNS Units'].sum())\n",
    "#print(final_data_grouped['Promo Sales'].sum()-promo_to_all_file['Promo Sales'].sum())"
   ]
  },
  {
   "cell_type": "code",
   "execution_count": null,
   "metadata": {},
   "outputs": [],
   "source": [
    "final_data_sales_grouped_EQ.to_csv(to_save+\"final_data_grouped_EQ.csv\")"
   ]
  },
  {
   "cell_type": "code",
   "execution_count": null,
   "metadata": {},
   "outputs": [],
   "source": []
  },
  {
   "cell_type": "markdown",
   "metadata": {},
   "source": [
    "# Promo Final"
   ]
  },
  {
   "cell_type": "code",
   "execution_count": null,
   "metadata": {},
   "outputs": [],
   "source": [
    "map_promo = pd.read_csv(map_folder+\"map_promo.csv\", encoding=\"latin-1\")\n",
    "month_promo_file_1=month_promo_file[['retailersku', 'weekid', 'promotype', 'retailsales', 'unitssold']]\n",
    "history_promo_data_1=history_promo_data[['retailersku', 'weekid', 'promotype', 'retailsales','unitssold']]\n",
    "all_data_promo = pd.concat([month_promo_file_1, history_promo_data_1])\n",
    "all_data_promo = all_data_promo.merge(map_title, how=\"left\", on=\"retailersku\")\n",
    "all_data_promo[\"weekid\"] = all_data_promo[\"weekid\"].astype(\"str\")\n",
    "all_data_promo = all_data_promo.merge(map_promo, how=\"left\", on=\"promotype\")\n",
    "all_data_promo.drop(\"promotype\",axis=1, inplace=True)\n",
    "all_data_promo.drop_duplicates(inplace=True)\n",
    "all_data_promo.drop_duplicates(subset=[\"retailersku\",\"weekid\",\"promo_type\"], keep=\"last\",inplace=True)\n",
    "# to drop treats\n",
    "all_data_promo_uniq_title_attr = all_data_promo.merge(map_atributes, on = [\"retailersku\"],how =\"left\")\n",
    "all_data_promo_without_treats = all_data_promo_uniq_title_attr[~(all_data_promo_uniq_title_attr[\"species_form\"]==\"drop\")]\n",
    "all_data_promo_with_treats = all_data_promo_uniq_title_attr[all_data_promo_uniq_title_attr[\"species_form\"]==\"drop\"]\n",
    "\n",
    "final_data_promo = all_data_promo_without_treats[['retailersku', 'Title',\"title_from_sales\",  \n",
    "       'manufacturer', 'brand', 'species_form', 'bag_size', 'lifestage',\n",
    "       'usage', 'manufacturer_general', 'brand_general' , 'promo_type',\n",
    "       'weekid', 'retailsales',\n",
    "        'unitssold']]\n",
    "#final_data_promo.fillna(\"Unknown\",inplace=True)\n",
    "#Check\n",
    "print(all_data_promo_without_treats.unitssold.sum()+all_data_promo_with_treats.unitssold.sum() - all_data_promo.unitssold.sum())\n",
    "print(final_data_promo['unitssold'].sum() - all_data_promo_without_treats.unitssold.sum())\n",
    "#Changes to merge with sales\n",
    "final_data_promo.rename(columns={'unitssold':\"Promo Units\", 'retailsales':\"Promo Sales\" },inplace = True)\n",
    "final_data_promo[\"retailersku\"].replace(to_replace=\"0789331144\", value=\"789331144\", inplace = True)\n",
    "#final_data_promo = final_data_promo[[\"retailersku\",\"weekid\",\"promo_type\", \"Promo Units\", \"Promo Sales\"]]"
   ]
  },
  {
   "cell_type": "code",
   "execution_count": null,
   "metadata": {},
   "outputs": [],
   "source": [
    "final_data_promo = final_data_promo[[\"Title\",'title_from_sales',\"retailersku\",'manufacturer', 'brand','manufacturer_general', 'brand_general', 'species_form',\n",
    "                                            'bag_size', 'lifestage', 'usage',\"promo_type\", 'weekid',  \"Promo Units\", \"Promo Sales\"]]\n",
    "final_data_promo_grouped = final_data_promo.groupby(['Title','title_from_sales',\"retailersku\",'manufacturer', 'brand','manufacturer_general', 'brand_general', \n",
    "                                                     'species_form', 'bag_size', 'lifestage', 'usage',\"promo_type\", \"weekid\"]).max()\n",
    "final_data_promo_grouped[\"Promo AvgPrice per Unit\"]=final_data_promo_grouped[\"Promo Sales\"]/final_data_promo_grouped[\"Promo Units\"]\n",
    "final_data_promo_grouped.reset_index(inplace =True)\n",
    "final_data_promo_grouped.head(1)"
   ]
  },
  {
   "cell_type": "code",
   "execution_count": null,
   "metadata": {},
   "outputs": [],
   "source": [
    "final_data_promo_grouped_EQ = final_data_promo_grouped.merge(map_size, on=\"retailersku\", how=\"left\")\n",
    "final_data_promo_grouped_EQ[['Size', 'lb/oz', 'Size lb', 'count']] = final_data_promo_grouped_EQ[['Size', 'lb/oz', 'Size lb', 'count']].fillna(\"Unknown\")\n",
    "final_data_promo_grouped_EQ = final_data_promo_grouped_EQ[['Title', 'title_from_sales', 'retailersku', 'manufacturer', 'brand',\n",
    "       'manufacturer_general', 'brand_general', 'species_form', 'bag_size',\n",
    "       'lifestage', 'usage', 'Size', 'lb/oz', 'Size lb', 'count', 'coef',\n",
    "        'promo_type', 'weekid', \"Promo Sales\", \"Promo Units\",  'Promo AvgPrice per Unit' ]]\n",
    "final_data_promo_grouped_EQ[\"Promo Volume\"] = final_data_promo_grouped_EQ[\"Promo Units\"]*final_data_promo_grouped_EQ[\"coef\"]\n",
    "final_data_promo_grouped_EQ[\"Promo AvgPrice per lb\"]=final_data_promo_grouped_EQ[\"Promo Sales\"]/final_data_promo_grouped_EQ[\"Promo Volume\"]\n",
    "final_data_promo_grouped_EQ.fillna(0,inplace=True)"
   ]
  },
  {
   "cell_type": "markdown",
   "metadata": {},
   "source": [
    "# SNS"
   ]
  },
  {
   "cell_type": "code",
   "execution_count": null,
   "metadata": {
    "scrolled": true
   },
   "outputs": [],
   "source": [
    "os.chdir(sns_data_path)\n",
    "sns_data = pd.read_csv(\"SNS_Scale_Up_2019-06-11.csv\")\n",
    "sns_data[\"week_range\"] = sns_data[\"week_range\"].astype(\"str\")\n",
    "sns_data['Start'] = sns_data['week_range'].apply(lambda x: x[1:11])\n",
    "sns_data['End'] = sns_data['week_range'].apply(lambda x: x[14:24])\n",
    "sns_data['Start'] = sns_data['Start'].apply(lambda x: datetime.strptime(x, '%Y-%m-%d'))\n",
    "sns_data['Start_week'] = sns_data['Start']\n",
    "sns_data['Start_week'] = sns_data['Start_week'].apply(lambda x: datetime.strftime(x, '%U'))\n",
    "sns_data[\"year\"] = sns_data['Start']\n",
    "sns_data['year'] = sns_data['year'].apply(lambda x: datetime.strftime(x, '%Y'))\n",
    "sns_data[\"Start_week\"] = sns_data[\"Start_week\"].astype(\"int\")\n",
    "sns_data[\"Start_week\"][sns_data[\"year\"]==\"2017\"]=sns_data[\"Start_week\"]-1\n",
    "sns_data['weekid']=\"\"\n",
    "sns_data['weekid'][sns_data[\"Start_week\"]>9]= sns_data['year']+sns_data['Start_week'].astype(\"str\")\n",
    "sns_data['weekid'][sns_data[\"Start_week\"]<10]= sns_data['year']+\"0\"+sns_data['Start_week'].astype(\"str\")\n",
    "sns_data = sns_data[['weekid', 'Asin', 'SNS_Quantity', 'SNS_Net_Sales']]\n",
    "sns_data.rename(columns={'Asin':\"retailersku\"},inplace = True)\n",
    "#final_sns_data[\"SNS_Quantity\"] = final_sns_data[\"SNS_Quantity\"]*-1\n",
    "#final_sns_data[\"SNS_Net_Sales\"] = final_sns_data[\"SNS_Net_Sales\"]*-1\n",
    "#final_sns_data.rename(columns={'SNS_Quantity':\"volume\", 'SNS_Net_Sales':\"estimatesales\" },inplace = True)\n",
    "sns_data.rename(columns={'SNS_Quantity':\"SNS Units\", 'SNS_Net_Sales':\"SNS Sales\" },inplace = True)\n",
    "sns_data.drop_duplicates(inplace=True)"
   ]
  },
  {
   "cell_type": "code",
   "execution_count": null,
   "metadata": {},
   "outputs": [],
   "source": [
    "sns_data[\"SNS Sales\"].sum()"
   ]
  },
  {
   "cell_type": "markdown",
   "metadata": {},
   "source": [
    "# Drop Treats"
   ]
  },
  {
   "cell_type": "code",
   "execution_count": null,
   "metadata": {},
   "outputs": [],
   "source": [
    "sns_data[\"promo_type\"]=\"None\"\n",
    "sns_data=sns_data.merge(map_title, on=\"retailersku\")\n",
    "sns_data[\"retailersku\"].replace(to_replace=\"0789331144\", value=\"789331144\", inplace = True)\n",
    "sns_data_with_attr = sns_data.merge(map_atributes, on=\"retailersku\", how=\"left\")\n",
    "sns_data_without_treats = sns_data_with_attr[~(sns_data_with_attr[\"species_form\"].str.contains(\"drop\", na=False))]\n",
    "sns_data_with_treats = sns_data_with_attr[(sns_data_with_attr[\"species_form\"].str.contains(\"drop\", na=False))]\n",
    "len(sns_data_without_treats)"
   ]
  },
  {
   "cell_type": "markdown",
   "metadata": {},
   "source": [
    "# Check&CSV"
   ]
  },
  {
   "cell_type": "code",
   "execution_count": null,
   "metadata": {},
   "outputs": [],
   "source": [
    "print(sns_data[\"SNS Units\"].sum()-sns_data_with_attr[\"SNS Units\"].sum())\n",
    "print(sns_data_without_treats[\"SNS Units\"].sum()+sns_data_with_treats[\"SNS Units\"].sum()-sns_data_with_attr[\"SNS Units\"].sum())"
   ]
  },
  {
   "cell_type": "code",
   "execution_count": null,
   "metadata": {},
   "outputs": [],
   "source": [
    "final_data_sns = sns_data_without_treats[[\"Title\",'title_from_sales',\"retailersku\",'manufacturer', 'brand','manufacturer_general', 'brand_general', 'species_form',\n",
    "                                            'bag_size', 'lifestage', 'usage',\"promo_type\", 'weekid',  \"SNS Units\", \"SNS Sales\"]]"
   ]
  },
  {
   "cell_type": "code",
   "execution_count": null,
   "metadata": {},
   "outputs": [],
   "source": [
    "final_data_sns_grouped = final_data_sns.groupby(['Title','title_from_sales',\"retailersku\",'manufacturer', 'brand','manufacturer_general', 'brand_general', \n",
    "                                                     'species_form', 'bag_size', 'lifestage', 'usage',\"promo_type\", \"weekid\"]).max()\n",
    "final_data_sns_grouped[\"SNS AvgPrice per Unit\"]=final_data_sns_grouped[\"SNS Sales\"]/final_data_sns_grouped[\"SNS Units\"]\n",
    "final_data_sns_grouped.reset_index(inplace =True)\n",
    "final_data_sns_grouped.head(1)"
   ]
  },
  {
   "cell_type": "code",
   "execution_count": null,
   "metadata": {},
   "outputs": [],
   "source": [
    "final_data_sns_grouped_EQ = final_data_sns_grouped.merge(map_size, on=\"retailersku\", how=\"left\")\n",
    "final_data_sns_grouped_EQ[['Size', 'lb/oz', 'Size lb', 'count']] = final_data_sns_grouped_EQ[['Size', 'lb/oz', 'Size lb', 'count']].fillna(\"Unknown\")\n",
    "final_data_sns_grouped_EQ = final_data_sns_grouped_EQ[['Title', 'title_from_sales', 'retailersku', 'manufacturer', 'brand',\n",
    "       'manufacturer_general', 'brand_general', 'species_form', 'bag_size',\n",
    "       'lifestage', 'usage',\n",
    "       'Size', 'lb/oz', 'Size lb', 'count', 'coef', 'promo_type', 'weekid', \n",
    "       'SNS Sales', 'SNS Units', 'SNS AvgPrice per Unit' ]]\n",
    "final_data_sns_grouped_EQ[\"SNS Volume\"] = final_data_sns_grouped_EQ[\"SNS Units\"]*final_data_sns_grouped_EQ[\"coef\"]\n",
    "final_data_sns_grouped_EQ[\"SNS AvgPrice per lb\"]=final_data_sns_grouped_EQ[\"SNS Sales\"]/final_data_sns_grouped_EQ[\"SNS Volume\"]\n",
    "final_data_sns_grouped_EQ.fillna(0,inplace=True)"
   ]
  },
  {
   "cell_type": "code",
   "execution_count": null,
   "metadata": {},
   "outputs": [],
   "source": [
    "sns_sales_match.shape"
   ]
  },
  {
   "cell_type": "code",
   "execution_count": null,
   "metadata": {},
   "outputs": [],
   "source": [
    "final_data_sales[\"Total Sales\"].sum()"
   ]
  },
  {
   "cell_type": "code",
   "execution_count": null,
   "metadata": {
    "scrolled": true
   },
   "outputs": [],
   "source": [
    "final_data_sns_grouped_EQ.head(1)\n",
    "final_data_sales_grouped_EQ.head(1)\n",
    "final_data_promo_grouped_EQ.head(1)"
   ]
  },
  {
   "cell_type": "code",
   "execution_count": null,
   "metadata": {},
   "outputs": [],
   "source": [
    "promo_sales_match = final_data_promo_grouped_EQ.merge(final_data_sales_grouped_EQ,on=['Title', 'title_from_sales', 'retailersku', 'manufacturer', 'brand',\n",
    "       'manufacturer_general', 'brand_general', 'species_form', 'bag_size',\n",
    "       'lifestage', 'usage', 'Size', 'lb/oz', 'Size lb', 'count', 'coef',\n",
    "        'weekid'], how=\"left\")\n",
    "promo_sales_match[\"Promo_min_Sales\"]=promo_sales_match[\"Total Sales\"] - promo_sales_match[\"Promo Sales\"]\n",
    "promo_sales_match[\"Promo_min_Sales_U\"]=promo_sales_match[\"Sale Units\"] - promo_sales_match[\"Promo Units\"]\n",
    "promo_sales_match[\"Promo_min_Sales_P\"]=promo_sales_match[\"AvgPrice per Unit\"] - promo_sales_match[\"Promo AvgPrice per Unit\"]\n",
    "promo_sales_match.to_csv(to_save+\"promo_sales_match.csv\")"
   ]
  },
  {
   "cell_type": "code",
   "execution_count": null,
   "metadata": {},
   "outputs": [],
   "source": [
    "sns_sales_match = final_data_sns_grouped_EQ.merge(final_data_sales_grouped_EQ,on=['Title', 'title_from_sales', 'retailersku', 'manufacturer', 'brand',\n",
    "       'manufacturer_general', 'brand_general', 'species_form', 'bag_size',\n",
    "       'lifestage', 'usage', 'Size', 'lb/oz', 'Size lb', 'count', 'coef',\n",
    "        'weekid'], how=\"left\")\n",
    "sns_sales_match[\"SNS_min_Sales\"]=sns_sales_match[\"Total Sales\"] - sns_sales_match[\"SNS Sales\"]\n",
    "sns_sales_match[\"SNS_min_Sales_U\"]=sns_sales_match[\"Sale Units\"] - sns_sales_match[\"SNS Units\"]\n",
    "sns_sales_match[\"SNS_min_Sales_P\"]=sns_sales_match[\"AvgPrice per Unit\"] - sns_sales_match[\"SNS AvgPrice per Unit\"]\n",
    "sns_sales_match.to_csv(to_save+\"sns_sales_match.csv\")"
   ]
  },
  {
   "cell_type": "markdown",
   "metadata": {},
   "source": [
    "# Melt all"
   ]
  },
  {
   "cell_type": "code",
   "execution_count": null,
   "metadata": {},
   "outputs": [],
   "source": [
    "final_data_sales_melt = pd.melt(final_data_sales_grouped_EQ, id_vars = ['Title', 'title_from_sales', 'retailersku', 'manufacturer', 'brand','manufacturer_general', 'brand_general',\n",
    "                                            'species_form', 'bag_size', 'lifestage', 'usage','Size', 'lb/oz', 'Size lb', 'count', 'coef',\"promo_type\", 'weekid'],\n",
    "                                          var_name =\"Fact\", value_name=\"Values\")"
   ]
  },
  {
   "cell_type": "code",
   "execution_count": null,
   "metadata": {},
   "outputs": [],
   "source": [
    "final_data_promo_melt = pd.melt(final_data_promo_grouped_EQ, id_vars = ['Title', 'title_from_sales', 'retailersku', 'manufacturer', 'brand','manufacturer_general', 'brand_general',\n",
    "                                            'species_form', 'bag_size', 'lifestage', 'usage','Size', 'lb/oz', 'Size lb', 'count', 'coef',\"promo_type\", 'weekid'],\n",
    "                                          var_name =\"Fact\", value_name=\"Values\")"
   ]
  },
  {
   "cell_type": "code",
   "execution_count": null,
   "metadata": {},
   "outputs": [],
   "source": [
    "final_data_sns_melt = pd.melt(final_data_sns_grouped_EQ, id_vars = ['Title', 'title_from_sales', 'retailersku', 'manufacturer', 'brand','manufacturer_general', 'brand_general',\n",
    "                                            'species_form', 'bag_size', 'lifestage', 'usage','Size', 'lb/oz', 'Size lb', 'count', 'coef',\"promo_type\", 'weekid'],\n",
    "                                          var_name =\"Fact\", value_name=\"Values\")"
   ]
  },
  {
   "cell_type": "code",
   "execution_count": null,
   "metadata": {},
   "outputs": [],
   "source": [
    "all_df = pd.concat([final_data_sales_melt,final_data_promo_melt,final_data_sns_melt])"
   ]
  },
  {
   "cell_type": "code",
   "execution_count": null,
   "metadata": {},
   "outputs": [],
   "source": [
    "all_df.to_csv(to_save+\"all_df_v2.csv\")"
   ]
  }
 ],
 "metadata": {
  "kernelspec": {
   "display_name": "Python 3",
   "language": "python",
   "name": "python3"
  },
  "language_info": {
   "codemirror_mode": {
    "name": "ipython",
    "version": 3
   },
   "file_extension": ".py",
   "mimetype": "text/x-python",
   "name": "python",
   "nbconvert_exporter": "python",
   "pygments_lexer": "ipython3",
   "version": "3.7.3"
  }
 },
 "nbformat": 4,
 "nbformat_minor": 2
}
